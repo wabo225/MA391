{
 "cells": [
  {
   "cell_type": "code",
   "execution_count": 8,
   "metadata": {},
   "outputs": [
    {
     "data": {
      "image/png": "[encoded data removed]",
      "text/plain": [
       "<Figure size 432x288 with 1 Axes>"
      ]
     },
     "metadata": {
      "needs_background": "light"
     },
     "output_type": "display_data"
    }
   ],
   "source": [
    "import matplotlib.pyplot as plt\n",
    "import numpy as np\n",
    "\n",
    "plt.imshow(np.outer(np.ones(5),np.arange(5)).T)\n",
    "plt.axis('off')\n",
    "plt.show()"
   ]
  },
  {
   "cell_type": "code",
   "execution_count": 38,
   "metadata": {},
   "outputs": [
    {
     "data": {
      "image/png": "[encoded data removed]",
      "text/plain": [
       "<Figure size 432x288 with 1 Axes>"
      ]
     },
     "metadata": {
      "needs_background": "light"
     },
     "output_type": "display_data"
    },
    {
     "data": {
      "image/png": "[encoded data removed]",
      "text/plain": [
       "<Figure size 432x288 with 1 Axes>"
      ]
     },
     "metadata": {
      "needs_background": "light"
     },
     "output_type": "display_data"
    },
    {
     "data": {
      "image/png": "[encoded data removed]",
      "text/plain": [
       "<Figure size 432x288 with 1 Axes>"
      ]
     },
     "metadata": {
      "needs_background": "light"
     },
     "output_type": "display_data"
    },
    {
     "data": {
      "image/png": "[encoded data removed]",
      "text/plain": [
       "<Figure size 432x288 with 1 Axes>"
      ]
     },
     "metadata": {
      "needs_background": "light"
     },
     "output_type": "display_data"
    },
    {
     "data": {
      "image/png": "[encoded data removed]",
      "text/plain": [
       "<Figure size 432x288 with 1 Axes>"
      ]
     },
     "metadata": {
      "needs_background": "light"
     },
     "output_type": "display_data"
    }
   ],
   "source": [
    "plan = np.array(\n",
    "    [[0,0,0,0,0],\n",
    "     [1,1,1,1,1]]\n",
    ")\n",
    "\n",
    "def flip_second_row(plan): return np.c_[plan.T[:,0],(plan.T[:,1])[::-1]].T\n",
    "\n",
    "for i in range(5):\n",
    "    plt.imshow(plan)\n",
    "    plt.axis('off')\n",
    "    plt.savefig('figures/plan_%d.png' % i)\n",
    "    plt.show()\n",
    "\n",
    "    plan = flip_second_row(plan)\n",
    "    plan = np.roll(plan.flatten(),1)\n",
    "    plan = np.reshape(plan, (-1, 5))\n",
    "    plan = flip_second_row(plan)\n"
   ]
  },
  {
   "cell_type": "code",
   "execution_count": 126,
   "metadata": {},
   "outputs": [
    {
     "name": "stdout",
     "output_type": "stream",
     "text": [
      "21\n"
     ]
    },
    {
     "data": {
      "image/png": "[encoded data removed]",
      "text/plain": [
       "<Figure size 432x288 with 1 Axes>"
      ]
     },
     "metadata": {
      "needs_background": "light"
     },
     "output_type": "display_data"
    },
    {
     "data": {
      "image/png": "[encoded data removed]",
      "text/plain": [
       "<Figure size 432x288 with 1 Axes>"
      ]
     },
     "metadata": {
      "needs_background": "light"
     },
     "output_type": "display_data"
    }
   ],
   "source": [
    "voters = np.array([[0,1,0,1,0,1,1,0],\n",
    "                   [1,0,1,0,0,0,0,1],\n",
    "                   [0,1,0,1,0,0,1,0],\n",
    "                   [1,0,0,0,0,1,1,0],\n",
    "                   [1,0,1,0,0,1,0,1],\n",
    "                   [0,0,1,0,1,0,0,0],\n",
    "                   [1,0,0,0,0,0,0,0],\n",
    "                   [0,1,0,0,0,0,0,0]])\n",
    "\n",
    "print(np.sum(voters))\n",
    "\n",
    "plt.figure()\n",
    "ax = plt.gca()\n",
    "im = plt.imshow(voters, cmap='bwr', vmin=0, vmax=1, aspect='equal', interpolation='none')\n",
    "\n",
    "ax.set_xticks(np.arange(8))\n",
    "ax.set_yticks(np.arange(8))\n",
    "\n",
    "ax.set_xticklabels(np.arange(1,9))\n",
    "ax.set_yticklabels(np.arange(1,9))\n",
    "\n",
    "ax.set_xticks(np.arange(-.5,8), minor=True)\n",
    "ax.set_yticks(np.arange(-.5,8), minor=True)\n",
    "\n",
    "ax.grid(which='minor', color='white', linestyle='-', linewidth=2)\n",
    "plt.title('Voters')\n",
    "plt.show()\n",
    "\n",
    "districts = [[0,0,0,0,1,1,1,1],\n",
    "             [0,0,0,0,1,1,1,1],\n",
    "             [0,0,0,0,1,1,1,1],\n",
    "             [0,0,0,0,1,1,1,1],\n",
    "             [3,3,3,3,2,2,2,2],\n",
    "             [3,3,3,3,2,2,2,2],\n",
    "             [3,3,3,3,2,2,2,2],\n",
    "             [3,3,3,3,2,2,2,2]]\n",
    "\n",
    "plt.imshow(districts)\n",
    "plt.title('Districts')\n",
    "plt.show()"
   ]
  },
  {
   "cell_type": "code",
   "execution_count": 130,
   "metadata": {},
   "outputs": [
    {
     "data": {
      "image/png": "[encoded data removed]",
      "text/plain": [
       "<Figure size 432x288 with 1 Axes>"
      ]
     },
     "metadata": {
      "needs_background": "light"
     },
     "output_type": "display_data"
    }
   ],
   "source": [
    "x = np.arange(0,4)\n",
    "y = np.zeros(4)\n",
    "for a in range(4):\n",
    "    district = np.vectorize(lambda x : 1 if x == a else 0)(districts)\n",
    "    y[a] = np.sum(district*voters)/np.sum(district)\n",
    "\n",
    "plt.scatter(x,100*y)\n",
    "plt.xlabel('District')\n",
    "plt.ylabel('Voter percentage (red)')\n",
    "plt.xticks(x)\n",
    "plt.show()\n",
    "\n",
    "# plt.imshow(y.reshape((2,2)), cmap='bwr', vmin=0, vmax=1, aspect='equal', interpolation='none')"
   ]
  },
  {
   "cell_type": "code",
   "execution_count": null,
   "metadata": {},
   "outputs": [],
   "source": []
  }
 ],
 "metadata": {
  "interpreter": {
   "hash": "2db524e06e9f5f4ffedc911c917cb75e12dbc923643829bf417064a77eb14d37"
  },
  "kernelspec": {
   "display_name": "Python 3.8.0 64-bit",
   "language": "python",
   "name": "python3"
  },
  "language_info": {
   "codemirror_mode": {
    "name": "ipython",
    "version": 3
   },
   "file_extension": ".py",
   "mimetype": "text/x-python",
   "name": "python",
   "nbconvert_exporter": "python",
   "pygments_lexer": "ipython3",
   "version": "3.8.0"
  },
  "orig_nbformat": 4
 },
 "nbformat": 4,
 "nbformat_minor": 2
}
